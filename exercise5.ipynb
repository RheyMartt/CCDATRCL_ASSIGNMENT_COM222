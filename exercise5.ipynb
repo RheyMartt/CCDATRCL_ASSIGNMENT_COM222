{
  "cells": [
    {
      "cell_type": "markdown",
      "metadata": {
        "id": "iG3hCQ28ilZ5"
      },
      "source": [
        "# Exercise 5"
      ]
    },
    {
      "cell_type": "markdown",
      "metadata": {
        "id": "nkql-2fUilaC"
      },
      "source": [
        "#### 1. Create a dictionary of your 10 favorite songs."
      ]
    },
    {
      "cell_type": "markdown",
      "metadata": {
        "id": "jSW0FVSpilaD"
      },
      "source": [
        "Example:\n",
        "\n",
        "|KEY|VALUE|\n",
        "|---|---|\n",
        "|001|My Love|\n",
        "|002|Like a rose|"
      ]
    },
    {
      "cell_type": "code",
      "source": [
        "songdictionary = {\n",
        "    \"001\": \"Calling\",\n",
        "    \"002\": \"Silk & Cologne\",\n",
        "    \"003\": \"Sunflower\",\n",
        "    \"004\": \"Die for you\",\n",
        "    \"005\": \"ETA\",\n",
        "    \"006\": \"Fiesta\",\n",
        "    \"007\": \"Eleven\",\n",
        "    \"008\": \"I'm In Love With You\",\n",
        "    \"009\": \"Robbers\",\n",
        "    \"010\": \"Every Summertime\"\n",
        "}"
      ],
      "metadata": {
        "id": "w26EjIfnjrZf"
      },
      "execution_count": 3,
      "outputs": []
    },
    {
      "cell_type": "code",
      "source": [
        "print(songdictionary)"
      ],
      "metadata": {
        "colab": {
          "base_uri": "https://localhost:8080/"
        },
        "id": "ExoU1LRelYTM",
        "outputId": "b5dca426-4977-4c90-8e15-4d608fc25611"
      },
      "execution_count": 4,
      "outputs": [
        {
          "output_type": "stream",
          "name": "stdout",
          "text": [
            "{'001': 'Calling', '002': 'Silk & Cologne', '003': 'Sunflower', '004': 'Die for you', '005': 'ETA', '006': 'Fiesta', '007': 'Eleven', '008': \"I'm In Love With You\", '009': 'Robbers', '010': 'Every Summertime'}\n"
          ]
        }
      ]
    },
    {
      "cell_type": "markdown",
      "metadata": {
        "id": "7N99Wz5-ilaG"
      },
      "source": [
        "#### 2. Loop through the dictionary by its **key** and **value**"
      ]
    },
    {
      "cell_type": "code",
      "execution_count": null,
      "metadata": {
        "id": "AMNszPB3ilaG"
      },
      "outputs": [],
      "source": [
        "# put your answer here"
      ]
    },
    {
      "cell_type": "code",
      "source": [
        "song = songdictionary.get(\"id001\")\n",
        "song = songdictionary.get(\"id002\")\n",
        "song = songdictionary.get(\"id003\")\n",
        "song = songdictionary.get(\"id004\")\n",
        "song = songdictionary.get(\"id005\")\n",
        "song = songdictionary.get(\"id006\")\n",
        "song = songdictionary.get(\"id007\")\n",
        "song = songdictionary.get(\"id008\")\n",
        "song = songdictionary.get(\"id009\")\n",
        "song = songdictionary.get(\"id010\")"
      ],
      "metadata": {
        "id": "THIhV2qRnHQc"
      },
      "execution_count": 9,
      "outputs": []
    },
    {
      "cell_type": "code",
      "source": [
        "x = songdictionary.keys()\n",
        "x = songdictionary.keys()\n",
        "x = songdictionary.keys()\n",
        "x = songdictionary.keys()\n",
        "x = songdictionary.keys()\n",
        "x = songdictionary.keys()\n",
        "x = songdictionary.keys()\n",
        "x = songdictionary.keys()\n",
        "x = songdictionary.keys()\n",
        "x = songdictionary.keys()"
      ],
      "metadata": {
        "id": "POooRM9fogLv"
      },
      "execution_count": 10,
      "outputs": []
    },
    {
      "cell_type": "code",
      "source": [
        "for x, y in songdictionary.items():\n",
        "  print (x,y)"
      ],
      "metadata": {
        "colab": {
          "base_uri": "https://localhost:8080/"
        },
        "id": "ewmGXUmQmx2m",
        "outputId": "21b23753-2a16-4f9d-89c4-d066e6285574"
      },
      "execution_count": 11,
      "outputs": [
        {
          "output_type": "stream",
          "name": "stdout",
          "text": [
            "001 Calling\n",
            "002 Silk & Cologne\n",
            "003 Sunflower\n",
            "004 Die for you\n",
            "005 ETA\n",
            "006 Fiesta\n",
            "007 Eleven\n",
            "008 I'm In Love With You\n",
            "009 Robbers\n",
            "010 Every Summertime\n"
          ]
        }
      ]
    },
    {
      "cell_type": "markdown",
      "metadata": {
        "id": "EZVZL8ebilaH"
      },
      "source": [
        "#### 3. Add one additional song"
      ]
    },
    {
      "cell_type": "code",
      "source": [
        "songdictionary.update ({\"011\": \"Lowkey\"})"
      ],
      "metadata": {
        "id": "Oj9wjX_HqfwW"
      },
      "execution_count": 13,
      "outputs": []
    },
    {
      "cell_type": "code",
      "source": [
        "songdictionary"
      ],
      "metadata": {
        "colab": {
          "base_uri": "https://localhost:8080/"
        },
        "id": "jEZLUUpXruJq",
        "outputId": "329d7290-f9a1-464d-a246-60d022d74b15"
      },
      "execution_count": 14,
      "outputs": [
        {
          "output_type": "execute_result",
          "data": {
            "text/plain": [
              "{'001': 'Calling',\n",
              " '002': 'Silk & Cologne',\n",
              " '003': 'Sunflower',\n",
              " '004': 'Die for you',\n",
              " '005': 'ETA',\n",
              " '006': 'Fiesta',\n",
              " '007': 'Eleven',\n",
              " '008': \"I'm In Love With You\",\n",
              " '009': 'Robbers',\n",
              " '010': 'Every Summertime',\n",
              " '011': 'Lowkey'}"
            ]
          },
          "metadata": {},
          "execution_count": 14
        }
      ]
    },
    {
      "cell_type": "markdown",
      "metadata": {
        "id": "Fa4IPT21ilaJ"
      },
      "source": [
        "#### 4. Remove one song"
      ]
    },
    {
      "cell_type": "code",
      "source": [
        "songdictionary.pop(\"004\")"
      ],
      "metadata": {
        "colab": {
          "base_uri": "https://localhost:8080/",
          "height": 36
        },
        "id": "mqTd5AWwr4HL",
        "outputId": "62e01e00-9049-4384-f5db-b09e8db5b420"
      },
      "execution_count": 15,
      "outputs": [
        {
          "output_type": "execute_result",
          "data": {
            "text/plain": [
              "'Die for you'"
            ],
            "application/vnd.google.colaboratory.intrinsic+json": {
              "type": "string"
            }
          },
          "metadata": {},
          "execution_count": 15
        }
      ]
    },
    {
      "cell_type": "code",
      "source": [
        "songdictionary"
      ],
      "metadata": {
        "colab": {
          "base_uri": "https://localhost:8080/"
        },
        "id": "fpUewCqysDIG",
        "outputId": "e255d1b4-a0b0-48fd-e62c-c28097552229"
      },
      "execution_count": 16,
      "outputs": [
        {
          "output_type": "execute_result",
          "data": {
            "text/plain": [
              "{'001': 'Calling',\n",
              " '002': 'Silk & Cologne',\n",
              " '003': 'Sunflower',\n",
              " '005': 'ETA',\n",
              " '006': 'Fiesta',\n",
              " '007': 'Eleven',\n",
              " '008': \"I'm In Love With You\",\n",
              " '009': 'Robbers',\n",
              " '010': 'Every Summertime',\n",
              " '011': 'Lowkey'}"
            ]
          },
          "metadata": {},
          "execution_count": 16
        }
      ]
    },
    {
      "cell_type": "markdown",
      "metadata": {
        "id": "zoLpp_7HilaK"
      },
      "source": [
        "#### 5. Create a nested dictionary of your 10 favorite songs with 5 genres. Display all of the items of the nested dictionary\n",
        "\n",
        "- Each nested dictionary's key should be the genre of the song\n",
        "- Put each song in their respective genre"
      ]
    },
    {
      "cell_type": "markdown",
      "metadata": {
        "id": "zGgMMis9ilaK"
      },
      "source": [
        "Example:\n",
        "\n",
        "\n",
        "|KEY|VALUE|\n",
        "|---|---|\n",
        "|Pop|{001, Baby}|\n",
        "|Rock|{001, Enter Sandman}|"
      ]
    },
    {
      "cell_type": "code",
      "source": [
        "songdictionarywithgenre = {\n",
        "    \"R & B\" : {\n",
        "        \"001\" : \"Calling\",\n",
        "        \"002\" : \"Every Summertime\"\n",
        "    },\n",
        "    \"Hip-Hop\" : {\n",
        "        \"001\" : \"Silk & Cologne\",\n",
        "        \"002\" : \"sunflower\"\n",
        "    },\n",
        "    \"kpop\" : {\n",
        "        \"001\" : \"ETA\",\n",
        "        \"002\" : \"Fiesta\",\n",
        "        \"003\" : \"Eleven\",\n",
        "    },\n",
        "    \"Indie\" : {\n",
        "        \"001\" : \"I'm in Love WIth You\",\n",
        "        \"002\" : \"Lowkey\"\n",
        "    },\n",
        "    \"OPM\" : {\n",
        "        \"001\" : \"Upuan\"\n",
        "    }\n",
        "\n",
        "}"
      ],
      "metadata": {
        "id": "48JdxgbosMFL"
      },
      "execution_count": 17,
      "outputs": []
    },
    {
      "cell_type": "code",
      "source": [
        "songdictionarywithgenre"
      ],
      "metadata": {
        "colab": {
          "base_uri": "https://localhost:8080/"
        },
        "id": "_OELox0EviZe",
        "outputId": "9ad20d70-7e71-4b64-94ae-079c11a87e1f"
      },
      "execution_count": 18,
      "outputs": [
        {
          "output_type": "execute_result",
          "data": {
            "text/plain": [
              "{'R & B': {'001': 'Calling', '002': 'Every Summertime'},\n",
              " 'Hip-Hop': {'001': 'Silk & Cologne', '002': 'sunflower'},\n",
              " 'kpop': {'001': 'ETA', '002': 'Fiesta', '003': 'Eleven'},\n",
              " 'Indie': {'001': \"I'm in Love WIth You\", '002': 'Lowkey'},\n",
              " 'OPM': {'001': 'Upuan'}}"
            ]
          },
          "metadata": {},
          "execution_count": 18
        }
      ]
    },
    {
      "cell_type": "markdown",
      "metadata": {
        "id": "MRLmskTRilaL"
      },
      "source": [
        "#### 6. Print the first song of the first genre"
      ]
    },
    {
      "cell_type": "code",
      "source": [
        "print(songdictionarywithgenre[\"R & B\"][\"001\"])"
      ],
      "metadata": {
        "colab": {
          "base_uri": "https://localhost:8080/"
        },
        "id": "BSEUvNrgvyB1",
        "outputId": "92bdaac6-4eed-4464-ab60-1da752e82f29"
      },
      "execution_count": 19,
      "outputs": [
        {
          "output_type": "stream",
          "name": "stdout",
          "text": [
            "Calling\n"
          ]
        }
      ]
    },
    {
      "cell_type": "markdown",
      "metadata": {
        "id": "EHCu6RCqilaL"
      },
      "source": [
        "#### 7. Print the first song of the last genre"
      ]
    },
    {
      "cell_type": "code",
      "source": [
        "print(songdictionarywithgenre[\"OPM\"][\"001\"])"
      ],
      "metadata": {
        "colab": {
          "base_uri": "https://localhost:8080/"
        },
        "id": "GWzCqtIRwM_0",
        "outputId": "e590ebd2-3c85-4c0f-90bd-de5240875d2c"
      },
      "execution_count": 20,
      "outputs": [
        {
          "output_type": "stream",
          "name": "stdout",
          "text": [
            "Upuan\n"
          ]
        }
      ]
    }
  ],
  "metadata": {
    "kernelspec": {
      "display_name": "Python 3",
      "language": "python",
      "name": "python3"
    },
    "language_info": {
      "codemirror_mode": {
        "name": "ipython",
        "version": 3
      },
      "file_extension": ".py",
      "mimetype": "text/x-python",
      "name": "python",
      "nbconvert_exporter": "python",
      "pygments_lexer": "ipython3",
      "version": "3.11.4"
    },
    "orig_nbformat": 4,
    "colab": {
      "provenance": []
    }
  },
  "nbformat": 4,
  "nbformat_minor": 0
}