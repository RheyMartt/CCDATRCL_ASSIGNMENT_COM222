{
  "cells": [
    {
      "cell_type": "markdown",
      "metadata": {
        "id": "fCO3VeNzvGDc"
      },
      "source": [
        "# Exercise 4"
      ]
    },
    {
      "cell_type": "markdown",
      "metadata": {
        "id": "UCFGr2qPKONg"
      },
      "source": [
        "#### Pre-defined sorting algorithms"
      ]
    },
    {
      "cell_type": "code",
      "execution_count": 1,
      "metadata": {
        "id": "dXWXOLWtKONg"
      },
      "outputs": [],
      "source": [
        "def mergeSort(array):\n",
        "    if len(array) > 1:\n",
        "\n",
        "        #  r is the point where the array is divided into two subarrays\n",
        "        r = len(array)//2\n",
        "        L = array[:r]\n",
        "        M = array[r:]\n",
        "\n",
        "        # Sort the two halves\n",
        "        mergeSort(L)\n",
        "        mergeSort(M)\n",
        "\n",
        "        i = j = k = 0\n",
        "\n",
        "        # Until we reach either end of either L or M, pick larger among\n",
        "        # elements L and M and place them in the correct position at A[p..r]\n",
        "        while i < len(L) and j < len(M):\n",
        "            if L[i] < M[j]:\n",
        "                array[k] = L[i]\n",
        "                i += 1\n",
        "            else:\n",
        "                array[k] = M[j]\n",
        "                j += 1\n",
        "            k += 1\n",
        "\n",
        "        # When we run out of elements in either L or M,\n",
        "        # pick up the remaining elements and put in A[p..r]\n",
        "        while i < len(L):\n",
        "            array[k] = L[i]\n",
        "            i += 1\n",
        "            k += 1\n",
        "\n",
        "        while j < len(M):\n",
        "            array[k] = M[j]\n",
        "            j += 1\n",
        "            k += 1\n",
        "\n",
        "# Print the array\n",
        "def printList(array):\n",
        "    for i in range(len(array)):\n",
        "        print(array[i], end=\" \")\n",
        "    print()"
      ]
    },
    {
      "cell_type": "code",
      "execution_count": 2,
      "metadata": {
        "id": "OB-JMVxvKONi"
      },
      "outputs": [],
      "source": [
        "def countingSort(array):\n",
        "    size = len(array)\n",
        "    output = [0] * size\n",
        "\n",
        "    # Initialize count array\n",
        "    count = [0] * 10\n",
        "\n",
        "    # Store the count of each elements in count array\n",
        "    for i in range(0, size):\n",
        "        count[array[i]] += 1\n",
        "\n",
        "    # Store the cummulative count\n",
        "    for i in range(1, 10):\n",
        "        count[i] += count[i - 1]\n",
        "\n",
        "    # Find the index of each element of the original array in count array\n",
        "    # place the elements in output array\n",
        "    i = size - 1\n",
        "    while i >= 0:\n",
        "        output[count[array[i]] - 1] = array[i]\n",
        "        count[array[i]] -= 1\n",
        "        i -= 1\n",
        "\n",
        "    # Copy the sorted elements into original array\n",
        "    for i in range(0, size):\n",
        "        array[i] = output[i]"
      ]
    },
    {
      "cell_type": "code",
      "execution_count": 3,
      "metadata": {
        "id": "VXaukk4_KONj"
      },
      "outputs": [],
      "source": [
        "def insertionSort(array):\n",
        "\n",
        "    for step in range(1, len(array)):\n",
        "        key = array[step]\n",
        "        j = step - 1\n",
        "\n",
        "        # Compare key with each element on the left of it until an element smaller than it is found\n",
        "        # For descending order, change key<array[j] to key>array[j].\n",
        "        while j >= 0 and key < array[j]:\n",
        "            array[j + 1] = array[j]\n",
        "            j = j - 1\n",
        "\n",
        "        # Place key at after the element just smaller than it.\n",
        "        array[j + 1] = key"
      ]
    },
    {
      "cell_type": "code",
      "execution_count": 34,
      "metadata": {
        "id": "b4yWHH1nKONj"
      },
      "outputs": [],
      "source": [
        "# Bubble sort in Python\n",
        "def bubbleSort(array):\n",
        "\n",
        "  # loop to access each array element\n",
        "  for i in range(len(array)):\n",
        "\n",
        "    # loop to compare array elements\n",
        "    for j in range(0, len(array) - i - 1):\n",
        "\n",
        "      # compare two adjacent elements\n",
        "      # change > to < to sort in descending order\n",
        "      if array[j] > array[j + 1]:\n",
        "\n",
        "        # swapping elements if elements\n",
        "        # are not in the intended order\n",
        "        temp = array[j]\n",
        "        array[j] = array[j+1]\n",
        "        array[j+1] = temp"
      ]
    },
    {
      "cell_type": "markdown",
      "metadata": {
        "id": "6j9PZVsyvGDe"
      },
      "source": [
        "#### 1. Sort your **student number** in **ascending order**\n",
        "\n",
        "Example:\n",
        "\n",
        "**Input: 2022123456**\n",
        "\n",
        "**Output: 0122223456**"
      ]
    },
    {
      "cell_type": "code",
      "source": [
        "student_number = [2, 0, 2, 2, 1, 2, 3, 4, 5, 6]"
      ],
      "metadata": {
        "id": "fJgOKQcHRcwE"
      },
      "execution_count": 11,
      "outputs": []
    },
    {
      "cell_type": "code",
      "source": [
        "print(\"Input: \", student_number)"
      ],
      "metadata": {
        "colab": {
          "base_uri": "https://localhost:8080/"
        },
        "id": "WLLbjv-fTj7p",
        "outputId": "ce50fa13-16c0-4960-d9ae-4ad4edebf478"
      },
      "execution_count": 12,
      "outputs": [
        {
          "output_type": "stream",
          "name": "stdout",
          "text": [
            "Input:  [2, 0, 2, 2, 1, 2, 3, 4, 5, 6]\n"
          ]
        }
      ]
    },
    {
      "cell_type": "code",
      "source": [
        "insertionSort(student_number)"
      ],
      "metadata": {
        "id": "ydb4wl2LRlBG"
      },
      "execution_count": 13,
      "outputs": []
    },
    {
      "cell_type": "code",
      "source": [
        "sorted_student_number = ''.join(map(str, student_number))"
      ],
      "metadata": {
        "id": "44WTZOPDTTB7"
      },
      "execution_count": 14,
      "outputs": []
    },
    {
      "cell_type": "code",
      "source": [
        "print(\"Output: \", sorted_student_number)"
      ],
      "metadata": {
        "colab": {
          "base_uri": "https://localhost:8080/"
        },
        "id": "fwmqJCglRw2p",
        "outputId": "01a1c61f-ceaa-4580-e7e6-82912b25e630"
      },
      "execution_count": 17,
      "outputs": [
        {
          "output_type": "stream",
          "name": "stdout",
          "text": [
            "Output:  0122223456\n"
          ]
        }
      ]
    },
    {
      "cell_type": "markdown",
      "metadata": {
        "id": "felukBjnvGDf"
      },
      "source": [
        "#### 2. Sort the **dates** in **ascending order**.\n",
        "\n",
        "dates = [\"12-25-2023\", birthday, \"01-01-2023\"]\n",
        "\n",
        "Enter your birthday in the birthday variable."
      ]
    },
    {
      "cell_type": "code",
      "source": [
        "from datetime import datetime"
      ],
      "metadata": {
        "id": "PdcEIYRlmhZW"
      },
      "execution_count": 28,
      "outputs": []
    },
    {
      "cell_type": "code",
      "source": [
        "birthday = \"11-14-2003\"\n",
        "\n",
        "dates = [\"12-25-2023\", birthday, \"01-01-2023\"]"
      ],
      "metadata": {
        "id": "x6f9X-yYmixy"
      },
      "execution_count": 29,
      "outputs": []
    },
    {
      "cell_type": "code",
      "source": [
        "date_objects = [datetime.strptime(date, \"%m-%d-%Y\") for date in dates]"
      ],
      "metadata": {
        "id": "giy4yhG-mnrc"
      },
      "execution_count": 30,
      "outputs": []
    },
    {
      "cell_type": "code",
      "source": [
        "for i in range(1, len(date_objects)):\n",
        "    key_date = date_objects[i]\n",
        "    j = i - 1\n",
        "    while j >= 0 and key_date < date_objects[j]:\n",
        "        date_objects[j + 1] = date_objects[j]\n",
        "        j -= 1\n",
        "    date_objects[j + 1] = key_date"
      ],
      "metadata": {
        "id": "zdpGMDm4mtEs"
      },
      "execution_count": 31,
      "outputs": []
    },
    {
      "cell_type": "code",
      "source": [
        "sorted_dates = [date.strftime(\"%m-%d-%Y\") for date in date_objects]"
      ],
      "metadata": {
        "id": "zQ3HnZ-SmzUF"
      },
      "execution_count": 32,
      "outputs": []
    },
    {
      "cell_type": "code",
      "source": [
        "print(sorted_dates)"
      ],
      "metadata": {
        "colab": {
          "base_uri": "https://localhost:8080/"
        },
        "id": "8aW-BJeIm5ma",
        "outputId": "d69b7a65-583f-45bb-de2a-f27bc8d0d36d"
      },
      "execution_count": 33,
      "outputs": [
        {
          "output_type": "stream",
          "name": "stdout",
          "text": [
            "['11-14-2003', '01-01-2023', '12-25-2023']\n"
          ]
        }
      ]
    },
    {
      "cell_type": "markdown",
      "metadata": {
        "id": "IFDPeGZxvGDg"
      },
      "source": [
        "#### 3. Count the **total number of swaps** to sort the list below using **Bubble Sort**\n",
        "\n",
        "|3|2|5|1|4|\n",
        "|---|----|---|---|---|"
      ]
    },
    {
      "cell_type": "code",
      "source": [
        "def bubbleSortwCounter(array):\n",
        "    swap_count = 0\n",
        "\n",
        "    for i in range(len(array)):\n",
        "        for j in range(0, len(array) - i - 1):\n",
        "            if array[j] > array[j + 1]:\n",
        "                temp = array[j]\n",
        "                array[j] = array[j + 1]\n",
        "                array[j + 1] = temp\n",
        "                swap_count += 1\n",
        "\n",
        "    return swap_count"
      ],
      "metadata": {
        "id": "UvLX7zR_ojut"
      },
      "execution_count": 35,
      "outputs": []
    },
    {
      "cell_type": "code",
      "source": [
        "numbers = [3, 2, 5, 1, 4]"
      ],
      "metadata": {
        "id": "tGVYkaq6pGG8"
      },
      "execution_count": 39,
      "outputs": []
    },
    {
      "cell_type": "code",
      "source": [
        "totalswaps = bubbleSortwCounter(numbers)"
      ],
      "metadata": {
        "id": "JXFGTslZpaG8"
      },
      "execution_count": 37,
      "outputs": []
    },
    {
      "cell_type": "code",
      "execution_count": 38,
      "metadata": {
        "id": "b1ppwLcevGDg",
        "outputId": "fe6fb9b0-29d4-4034-b713-4cbceccddaa9",
        "colab": {
          "base_uri": "https://localhost:8080/"
        }
      },
      "outputs": [
        {
          "output_type": "stream",
          "name": "stdout",
          "text": [
            "5\n"
          ]
        }
      ],
      "source": [
        "print(totalswaps)"
      ]
    },
    {
      "cell_type": "markdown",
      "metadata": {
        "id": "iO2UusQWvGDi"
      },
      "source": [
        "#### 4. Count the **total number of steps** to sort the list below using **Insertion Sort**\n",
        "\n",
        "\n",
        "|6|2|5|7|4|1|8|9|3|\n",
        "|---|---|---|---|---|---|---|---|---|"
      ]
    },
    {
      "cell_type": "code",
      "source": [
        "def insertionSortwCounter(number_array):\n",
        "    steps_count = 0\n",
        "\n",
        "    for step in range(1, len(number_array)):\n",
        "        key = number_array[step]\n",
        "        j = step - 1\n",
        "\n",
        "        while j >= 0 and key < number_array[j]:\n",
        "            number_array[j + 1] = number_array[j]\n",
        "            j = j - 1\n",
        "            steps_count += 1\n",
        "\n",
        "        number_array[j + 1] = key\n",
        "\n",
        "\n",
        "    return steps_count"
      ],
      "metadata": {
        "id": "FfY0TS6Nzn9T"
      },
      "execution_count": 69,
      "outputs": []
    },
    {
      "cell_type": "code",
      "source": [
        "number_array = [6, 2, 5, 7, 4, 1, 8, 9, 3]"
      ],
      "metadata": {
        "id": "N-4971ht0HAK"
      },
      "execution_count": 70,
      "outputs": []
    },
    {
      "cell_type": "code",
      "source": [
        "counted_step = insertionSortwCounter(number_array)"
      ],
      "metadata": {
        "id": "BNqylstp0c-0"
      },
      "execution_count": 71,
      "outputs": []
    },
    {
      "cell_type": "code",
      "source": [
        "print(number_array)"
      ],
      "metadata": {
        "colab": {
          "base_uri": "https://localhost:8080/"
        },
        "id": "TKNDnrUs1DDY",
        "outputId": "9e08cbf6-5dba-4ba4-8753-ababb76f91d2"
      },
      "execution_count": 72,
      "outputs": [
        {
          "output_type": "stream",
          "name": "stdout",
          "text": [
            "[1, 2, 3, 4, 5, 6, 7, 8, 9]\n"
          ]
        }
      ]
    },
    {
      "cell_type": "code",
      "source": [
        "print(counted_step)"
      ],
      "metadata": {
        "colab": {
          "base_uri": "https://localhost:8080/"
        },
        "id": "Zr8SDbQh6LGy",
        "outputId": "5a940b9c-0e1c-48ec-89d0-1c7f72b4151c"
      },
      "execution_count": 73,
      "outputs": [
        {
          "output_type": "stream",
          "name": "stdout",
          "text": [
            "16\n"
          ]
        }
      ]
    },
    {
      "cell_type": "markdown",
      "metadata": {
        "id": "jpfNCCdbvGDj"
      },
      "source": [
        "#### 5. Given the list below:\n",
        "\n",
        "\n",
        "|7|5|4|3|2|5|1|8|\n",
        "|---|---|---|---|---|---|---|---|\n",
        "\n",
        "Using **merge sort** and **counting sort**\n",
        "\n",
        "Determine which sorting algorithm is faster by counting the total number of steps for each algorithm\n"
      ]
    },
    {
      "cell_type": "code",
      "source": [
        "def merge_sort(arr):\n",
        "    global merge_sort_steps\n",
        "    if len(arr) > 1:\n",
        "        mid = len(arr) // 2\n",
        "        left = arr[:mid]\n",
        "        right = arr[mid:]\n",
        "\n",
        "        merge_sort(left)\n",
        "        merge_sort(right)\n",
        "\n",
        "        i = j = k = 0\n",
        "\n",
        "        while i < len(left) and j < len(right):\n",
        "            if left[i] < right[j]:\n",
        "                arr[k] = left[i]\n",
        "                i += 1\n",
        "            else:\n",
        "                arr[k] = right[j]\n",
        "                j += 1\n",
        "            k += 1\n",
        "\n",
        "        while i < len(left):\n",
        "            arr[k] = left[i]\n",
        "            i += 1\n",
        "            k += 1\n",
        "\n",
        "        while j < len(right):\n",
        "            arr[k] = right[j]\n",
        "            j += 1\n",
        "            k += 1\n",
        "\n",
        "        merge_sort_steps += 1"
      ],
      "metadata": {
        "id": "E27cJvIEYyOD"
      },
      "execution_count": 74,
      "outputs": []
    },
    {
      "cell_type": "code",
      "source": [
        "def counting_sort(arr):\n",
        "    global counting_sort_steps\n",
        "    max_val = max(arr)\n",
        "    min_val = min(arr)\n",
        "    counting_range = max_val - min_val + 1\n",
        "\n",
        "    count = [0] * counting_range\n",
        "    output = [0] * len(arr)\n",
        "\n",
        "    for num in arr:\n",
        "        count[num - min_val] += 1\n",
        "\n",
        "    index = 0\n",
        "    for i in range(counting_range):\n",
        "        for j in range(count[i]):\n",
        "            output[index] = i + min_val\n",
        "            index += 1\n",
        "        if count[i] > 0:\n",
        "            counting_sort_steps += 1\n",
        "\n",
        "    return output"
      ],
      "metadata": {
        "id": "0uMOYiZZY5s_"
      },
      "execution_count": 75,
      "outputs": []
    },
    {
      "cell_type": "code",
      "source": [
        "merge_sort_steps = 0\n",
        "counting_sort_steps = 0\n",
        "\n",
        "input_list = [7, 5, 4, 3, 2, 5, 1, 8]\n",
        "merge_sort(input_list.copy())\n",
        "sorted_merge = input_list\n",
        "counting_sort(input_list.copy())\n",
        "sorted_counting = input_list\n"
      ],
      "metadata": {
        "id": "UibigOaKY-5S"
      },
      "execution_count": 76,
      "outputs": []
    },
    {
      "cell_type": "code",
      "source": [
        "if merge_sort_steps < counting_sort_steps:\n",
        "    print(\"Merge sort is faster\")\n",
        "else:\n",
        "    print(\"Counting sort is faster\")"
      ],
      "metadata": {
        "colab": {
          "base_uri": "https://localhost:8080/"
        },
        "id": "MDPPjl3MZBfw",
        "outputId": "9fc2136b-8613-4b4d-e44b-9c0a4ad46950"
      },
      "execution_count": 77,
      "outputs": [
        {
          "output_type": "stream",
          "name": "stdout",
          "text": [
            "Counting sort is faster\n"
          ]
        }
      ]
    }
  ],
  "metadata": {
    "colab": {
      "provenance": []
    },
    "kernelspec": {
      "display_name": "Python 3",
      "language": "python",
      "name": "python3"
    },
    "language_info": {
      "codemirror_mode": {
        "name": "ipython",
        "version": 3
      },
      "file_extension": ".py",
      "mimetype": "text/x-python",
      "name": "python",
      "nbconvert_exporter": "python",
      "pygments_lexer": "ipython3",
      "version": "3.11.4"
    },
    "orig_nbformat": 4
  },
  "nbformat": 4,
  "nbformat_minor": 0
}