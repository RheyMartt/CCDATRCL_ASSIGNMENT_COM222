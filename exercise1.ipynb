{
  "cells": [
    {
      "cell_type": "markdown",
      "metadata": {
        "id": "h2vFiYhGzZOg"
      },
      "source": [
        "# Exercise 1"
      ]
    },
    {
      "cell_type": "markdown",
      "source": [
        "## Class Initialization"
      ],
      "metadata": {
        "id": "sRm6kPQozcaU"
      }
    },
    {
      "cell_type": "code",
      "execution_count": null,
      "metadata": {
        "id": "b1u4Dt9mzZOi"
      },
      "outputs": [],
      "source": [
        "class Node:\n",
        "    def __init__(self, data):\n",
        "        self.data = data\n",
        "        self.next = None\n",
        "        self.prev = None"
      ]
    },
    {
      "cell_type": "code",
      "execution_count": null,
      "metadata": {
        "id": "tigvHSaHzZOj"
      },
      "outputs": [],
      "source": [
        "class LinkedList:\n",
        "\n",
        "    def __init__(self):\n",
        "        self.head = None\n",
        "\n",
        "    def traverse(self, node):\n",
        "        while node:\n",
        "            print(node.data, end=\" -> \")\n",
        "            node = node.next"
      ]
    },
    {
      "cell_type": "code",
      "execution_count": null,
      "metadata": {
        "id": "LIkQBioVzZOk"
      },
      "outputs": [],
      "source": [
        "class DoublyLinkedList:\n",
        "\n",
        "    def __init__(self):\n",
        "        self.head = None\n",
        "\n",
        "    def traverse(self, node):\n",
        "        while node:\n",
        "            print(node.data, end=\" -> \")\n",
        "            node = node.next"
      ]
    },
    {
      "cell_type": "code",
      "execution_count": null,
      "metadata": {
        "id": "zlxNT5EozZOl"
      },
      "outputs": [],
      "source": [
        "class CircularLinkedList:\n",
        "\n",
        "    def __init__(self):\n",
        "        self.head = None\n",
        "\n",
        "    def traverse(self, node):\n",
        "\n",
        "        head = node\n",
        "\n",
        "        while node:\n",
        "            print(node.data, end=\" -> \")\n",
        "            node = node.next\n",
        "\n",
        "            # Break to prevent infinite loop\n",
        "            if node == head:\n",
        "                break"
      ]
    },
    {
      "cell_type": "markdown",
      "metadata": {
        "id": "O68-Q1-bzZOl"
      },
      "source": [
        "#### 1. Create a Singly Linked list\n",
        "\n",
        "- Each node should contain your name and your seatmates in your row\n",
        "- Create at least 5 nodes\n",
        "- Traverse all nodes"
      ]
    },
    {
      "cell_type": "code",
      "execution_count": null,
      "metadata": {
        "id": "pTcx_OuPzZOl"
      },
      "outputs": [],
      "source": [
        "# put your code here"
      ]
    },
    {
      "cell_type": "code",
      "source": [
        "singly_linked_list = LinkedList()"
      ],
      "metadata": {
        "id": "SxLppIUy77AR"
      },
      "execution_count": null,
      "outputs": []
    },
    {
      "cell_type": "code",
      "source": [
        "student_1 = \"Mark\"\n",
        "student_2 = \"Renz\"\n",
        "student_3 = \"Christian\"\n",
        "student_4 = \"Rhodey\"\n",
        "student_5 = \"Khyle\"\n",
        "\n",
        "singly_linked_list.head = Node(student_1)\n",
        "node_b = Node(student_2)\n",
        "node_c = Node(student_3)\n",
        "node_d = Node(student_4)\n",
        "node_e = Node(student_5)"
      ],
      "metadata": {
        "id": "PaBLNBQj8jV9"
      },
      "execution_count": null,
      "outputs": []
    },
    {
      "cell_type": "code",
      "source": [
        "singly_linked_list.head.next = node_b\n",
        "node_b.next = node_c\n",
        "node_c.next = node_d\n",
        "node_d.next = node_e"
      ],
      "metadata": {
        "id": "HUA_d1Fy-qKL"
      },
      "execution_count": null,
      "outputs": []
    },
    {
      "cell_type": "code",
      "source": [
        "singly_linked_list.traverse(singly_linked_list.head)"
      ],
      "metadata": {
        "colab": {
          "base_uri": "https://localhost:8080/"
        },
        "id": "mAMjuFknCZPz",
        "outputId": "9fffcec0-30e3-4b29-c197-96b33198cc2a"
      },
      "execution_count": null,
      "outputs": [
        {
          "output_type": "stream",
          "name": "stdout",
          "text": [
            "Mark -> Renz -> Christian -> Rhodey -> Khyle -> "
          ]
        }
      ]
    },
    {
      "cell_type": "markdown",
      "metadata": {
        "id": "IFgwbdw_zZOm"
      },
      "source": [
        "#### 2. Create a Doubly Linked list\n",
        "\n",
        "- Each node should contain your name and your seatmates in your row\n",
        "- Create at least 5 nodes\n",
        "- Traverse all nodes"
      ]
    },
    {
      "cell_type": "code",
      "execution_count": null,
      "metadata": {
        "id": "8kQD2A_QzZOm"
      },
      "outputs": [],
      "source": [
        "# put your code here"
      ]
    },
    {
      "cell_type": "code",
      "source": [
        "doubly_linked_list = DoublyLinkedList()"
      ],
      "metadata": {
        "id": "ps-p0rSWGeal"
      },
      "execution_count": null,
      "outputs": []
    },
    {
      "cell_type": "code",
      "source": [
        "student_1 = \"Mark\"\n",
        "student_2 = \"Renz\"\n",
        "student_3 = \"Christian\"\n",
        "student_4 = \"Rhodey\"\n",
        "student_5 = \"Khyle\"\n",
        "\n",
        "doubly_linked_list.head = Node(student_1)\n",
        "node_b = Node(student_2)\n",
        "node_c = Node(student_3)\n",
        "node_d = Node(student_4)\n",
        "node_e = Node(student_5)"
      ],
      "metadata": {
        "id": "u5C4H7R7GmO6"
      },
      "execution_count": null,
      "outputs": []
    },
    {
      "cell_type": "code",
      "source": [
        "doubly_linked_list.head.prev = None\n",
        "doubly_linked_list.head.next = node_b\n",
        "\n",
        "node_b.prev = doubly_linked_list.head\n",
        "node_b.next = node_c\n",
        "\n",
        "node_c.prev = node_b\n",
        "node_c.next = node_d\n",
        "\n",
        "node_d.prev = node_c\n",
        "node_d.next = node_e\n",
        "\n",
        "node_e.prev = node_d\n",
        "node_e.next = None"
      ],
      "metadata": {
        "id": "yR-CGYlMG3LN"
      },
      "execution_count": null,
      "outputs": []
    },
    {
      "cell_type": "code",
      "source": [
        "print(\"Head: \" , doubly_linked_list.head.data)\n",
        "print(\"Next: \" , doubly_linked_list.head.next.data)\n",
        "\n",
        "print(\"========================================\")\n",
        "\n",
        "print(\"Node_b: \" , node_b.data)\n",
        "print(\"Previous: \" , node_b.prev.data)\n",
        "print(\"Next: \" , node_b.next.data)\n",
        "\n",
        "print(\"========================================\")\n",
        "\n",
        "print(\"Node_c: \" , node_c.data)\n",
        "print(\"Previous: \" , node_c.prev.data)\n",
        "print(\"Next: \" , node_c.next.data)\n",
        "\n",
        "print(\"========================================\")\n",
        "\n",
        "print(\"Node_d: \" , node_d.data)\n",
        "print(\"Previous: \" , node_d.prev.data)\n",
        "print(\"Next: \" , node_d.next.data)\n",
        "\n",
        "print(\"========================================\")\n",
        "\n",
        "print(\"Node_e: \" , node_e.data)\n",
        "print(\"Previous: \" , node_e.prev.data)\n"
      ],
      "metadata": {
        "id": "t72jLT6IH9d6",
        "colab": {
          "base_uri": "https://localhost:8080/"
        },
        "outputId": "3dba69f3-e68c-452f-feb7-4a2d616c8c72"
      },
      "execution_count": 34,
      "outputs": [
        {
          "output_type": "stream",
          "name": "stdout",
          "text": [
            "Head:  Mark\n",
            "Next:  Renz\n",
            "========================================\n",
            "Node_b:  Renz\n",
            "Previous:  Mark\n",
            "Next:  Christian\n",
            "========================================\n",
            "Node_c:  Christian\n",
            "Previous:  Renz\n",
            "Next:  Rhodey\n",
            "========================================\n",
            "Node_d:  Rhodey\n",
            "Previous:  Christian\n",
            "Next:  Khyle\n",
            "========================================\n",
            "Node_e:  Khyle\n",
            "Previous:  Rhodey\n"
          ]
        }
      ]
    },
    {
      "cell_type": "code",
      "source": [
        "doubly_linked_list.traverse(doubly_linked_list.head)"
      ],
      "metadata": {
        "colab": {
          "base_uri": "https://localhost:8080/"
        },
        "id": "d9oTYcT0K5DG",
        "outputId": "980ca8e8-c73c-4cc9-b14d-dcfbaefff061"
      },
      "execution_count": 35,
      "outputs": [
        {
          "output_type": "stream",
          "name": "stdout",
          "text": [
            "Mark -> Renz -> Christian -> Rhodey -> Khyle -> "
          ]
        }
      ]
    },
    {
      "cell_type": "markdown",
      "metadata": {
        "id": "rtApbsCjzZOm"
      },
      "source": [
        "#### 3. Create a Circular Linked list\n",
        "\n",
        "- Each node should contain your name and your seatmates in your row\n",
        "- Create at least 5 nodes\n",
        "- Traverse all nodes"
      ]
    },
    {
      "cell_type": "code",
      "execution_count": null,
      "metadata": {
        "id": "Gp1Oiq0jzZOn"
      },
      "outputs": [],
      "source": [
        "# put your code here"
      ]
    },
    {
      "cell_type": "code",
      "source": [
        "circular_linked_list = CircularLinkedList()"
      ],
      "metadata": {
        "id": "J_u41ROpLzFV"
      },
      "execution_count": 37,
      "outputs": []
    },
    {
      "cell_type": "code",
      "source": [
        "student_1 = \"Mark\"\n",
        "student_2 = \"Renz\"\n",
        "student_3 = \"Christian\"\n",
        "student_4 = \"Rhodey\"\n",
        "student_5 = \"Khyle\"\n",
        "\n",
        "circular_linked_list.head = Node(student_1)\n",
        "node_b = Node(student_2)\n",
        "node_c = Node(student_3)\n",
        "node_d = Node(student_4)\n",
        "node_e = Node(student_5)"
      ],
      "metadata": {
        "id": "G3idtauaL8fj"
      },
      "execution_count": 38,
      "outputs": []
    },
    {
      "cell_type": "code",
      "source": [
        "circular_linked_list.head.next = node_b\n",
        "node_b.next = node_c\n",
        "node_c.next = node_d\n",
        "node_d.next = node_e\n",
        "node_e.next = circular_linked_list.head"
      ],
      "metadata": {
        "id": "G1ZL_xR_Mita"
      },
      "execution_count": 39,
      "outputs": []
    },
    {
      "cell_type": "code",
      "source": [
        "print(\"Head: \" , doubly_linked_list.head.data)\n",
        "print(\"Next: \" , doubly_linked_list.head.next.data)\n",
        "\n",
        "print(\"========================================\")\n",
        "\n",
        "print(\"Node_b: \" , node_b.data)\n",
        "print(\"Next: \" , node_b.next.data)\n",
        "\n",
        "print(\"========================================\")\n",
        "\n",
        "print(\"Node_c: \" , node_c.data)\n",
        "print(\"Next: \" , node_c.next.data)\n",
        "\n",
        "print(\"========================================\")\n",
        "\n",
        "print(\"Node_d: \" , node_d.data)\n",
        "print(\"Next: \" , node_d.next.data)\n",
        "\n",
        "print(\"========================================\")\n",
        "\n",
        "print(\"Node_e: \" , node_e.data)\n",
        "print(\"Next: \" , node_e.next.data)\n"
      ],
      "metadata": {
        "colab": {
          "base_uri": "https://localhost:8080/"
        },
        "id": "JCh3YAqFMOBu",
        "outputId": "c79e17f6-4d94-431e-ab47-ed883995a88b"
      },
      "execution_count": 40,
      "outputs": [
        {
          "output_type": "stream",
          "name": "stdout",
          "text": [
            "Head:  Mark\n",
            "Next:  Renz\n",
            "========================================\n",
            "Node_b:  Renz\n",
            "Next:  Christian\n",
            "========================================\n",
            "Node_c:  Christian\n",
            "Next:  Rhodey\n",
            "========================================\n",
            "Node_d:  Rhodey\n",
            "Next:  Khyle\n",
            "========================================\n",
            "Node_e:  Khyle\n",
            "Next:  Mark\n"
          ]
        }
      ]
    },
    {
      "cell_type": "code",
      "source": [
        "circular_linked_list.traverse(circular_linked_list.head)"
      ],
      "metadata": {
        "colab": {
          "base_uri": "https://localhost:8080/"
        },
        "id": "YoEJp4rqM8pr",
        "outputId": "8d7d5f81-2fef-4eca-8e61-ddc64d0670e4"
      },
      "execution_count": 41,
      "outputs": [
        {
          "output_type": "stream",
          "name": "stdout",
          "text": [
            "Mark -> Renz -> Christian -> Rhodey -> Khyle -> "
          ]
        }
      ]
    }
  ],
  "metadata": {
    "kernelspec": {
      "display_name": "Python 3",
      "language": "python",
      "name": "python3"
    },
    "language_info": {
      "name": "python",
      "version": "3.11.4"
    },
    "orig_nbformat": 4,
    "colab": {
      "provenance": []
    }
  },
  "nbformat": 4,
  "nbformat_minor": 0
}